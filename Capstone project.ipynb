{
    "cells": [
        {
            "cell_type": "markdown",
            "metadata": {
                "collapsed": true
            },
            "source": "# Capstone project - The battle of Neighbourhoods"
        },
        {
            "cell_type": "markdown",
            "metadata": {},
            "source": "This notebook is mainly for the Applied Data Science Capstone project"
        },
        {
            "cell_type": "code",
            "execution_count": 1,
            "metadata": {},
            "outputs": [],
            "source": "import numpy as np\nimport pandas as pd"
        },
        {
            "cell_type": "code",
            "execution_count": 2,
            "metadata": {},
            "outputs": [
                {
                    "name": "stdout",
                    "output_type": "stream",
                    "text": "Hello Capstone Project Course!\n"
                }
            ],
            "source": "print('Hello Capstone Project Course!')"
        },
        {
            "cell_type": "markdown",
            "metadata": {},
            "source": "## Introduction/Business Problem"
        },
        {
            "cell_type": "markdown",
            "metadata": {},
            "source": "Toronto, the capital city of Ontario, is the most popular city in Canada. It is a multicultural city, and the financial and commercial centre of the country. Each year tons of  thousands of newcomers all over the world choose Toronto as their new home. \n\nWith the increase demand in housing market, the price keeps going up. Residents wish to live in an area where the housing price is relatively low and plenty of social venues are available around the neighbourhoods. In this project I will segment and cluster neighbourhoods in Toronto according to the housing prices and venues density. Residents can have a more clear idea with pricing and living environment of each neighbourhood. "
        },
        {
            "cell_type": "markdown",
            "metadata": {},
            "source": "## Data Section"
        },
        {
            "cell_type": "markdown",
            "metadata": {},
            "source": "-Foursquare location data will be used to get the venues of borough in Toronto. \n\n-The postal code and borough information can be scraped from the Wikipedia website. \n\n-The housing price information can be collected from Toronto CTVnews website\n\n-Geocoder Python Package can be used to get coordinates of each borough."
        },
        {
            "cell_type": "code",
            "execution_count": null,
            "metadata": {},
            "outputs": [],
            "source": ""
        }
    ],
    "metadata": {
        "kernelspec": {
            "display_name": "Python 3.6",
            "language": "python",
            "name": "python3"
        },
        "language_info": {
            "codemirror_mode": {
                "name": "ipython",
                "version": 3
            },
            "file_extension": ".py",
            "mimetype": "text/x-python",
            "name": "python",
            "nbconvert_exporter": "python",
            "pygments_lexer": "ipython3",
            "version": "3.6.9"
        }
    },
    "nbformat": 4,
    "nbformat_minor": 1
}